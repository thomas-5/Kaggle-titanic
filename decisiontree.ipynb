{
 "cells": [
  {
   "cell_type": "code",
   "execution_count": 1,
   "id": "5ca4cb69",
   "metadata": {
    "_cell_guid": "b1076dfc-b9ad-4769-8c92-a6c4dae69d19",
    "_uuid": "8f2839f25d086af736a60e9eeb907d3b93b6e0e5",
    "execution": {
     "iopub.execute_input": "2021-12-31T05:39:22.554897Z",
     "iopub.status.busy": "2021-12-31T05:39:22.553114Z",
     "iopub.status.idle": "2021-12-31T05:39:23.879655Z",
     "shell.execute_reply": "2021-12-31T05:39:23.880168Z",
     "shell.execute_reply.started": "2021-12-31T05:29:10.945838Z"
    },
    "papermill": {
     "duration": 1.340386,
     "end_time": "2021-12-31T05:39:23.880537",
     "exception": false,
     "start_time": "2021-12-31T05:39:22.540151",
     "status": "completed"
    },
    "tags": []
   },
   "outputs": [
    {
     "name": "stdout",
     "output_type": "stream",
     "text": [
      "/kaggle/input/titanic/train.csv\n",
      "/kaggle/input/titanic/test.csv\n",
      "/kaggle/input/titanic/gender_submission.csv\n"
     ]
    }
   ],
   "source": [
    "# This Python 3 environment comes with many helpful analytics libraries installed\n",
    "# It is defined by the kaggle/python Docker image: https://github.com/kaggle/docker-python\n",
    "# For example, here's several helpful packages to load\n",
    "\n",
    "import numpy as np # linear algebra\n",
    "import pandas as pd # data processing, CSV file I/O (e.g. pd.read_csv)\n",
    "from sklearn.metrics import mean_absolute_error\n",
    "from sklearn.model_selection import train_test_split\n",
    "from sklearn.tree import DecisionTreeRegressor\n",
    "\n",
    "# Input data files are available in the read-only \"../input/\" directory\n",
    "# For example, running this (by clicking run or pressing Shift+Enter) will list all files under the input directory\n",
    "\n",
    "import os\n",
    "for dirname, _, filenames in os.walk('/kaggle/input'):\n",
    "    for filename in filenames:\n",
    "        print(os.path.join(dirname, filename))\n",
    "\n",
    "# You can write up to 20GB to the current directory (/kaggle/working/) that gets preserved as output when you create a version using \"Save & Run All\" \n",
    "# You can also write temporary files to /kaggle/temp/, but they won't be saved outside of the current session"
   ]
  },
  {
   "cell_type": "code",
   "execution_count": 2,
   "id": "b4d0e5af",
   "metadata": {
    "execution": {
     "iopub.execute_input": "2021-12-31T05:39:23.900147Z",
     "iopub.status.busy": "2021-12-31T05:39:23.899373Z",
     "iopub.status.idle": "2021-12-31T05:39:23.949201Z",
     "shell.execute_reply": "2021-12-31T05:39:23.949686Z",
     "shell.execute_reply.started": "2021-12-31T05:29:10.959471Z"
    },
    "papermill": {
     "duration": 0.062311,
     "end_time": "2021-12-31T05:39:23.949896",
     "exception": false,
     "start_time": "2021-12-31T05:39:23.887585",
     "status": "completed"
    },
    "tags": []
   },
   "outputs": [
    {
     "data": {
      "text/html": [
       "<div>\n",
       "<style scoped>\n",
       "    .dataframe tbody tr th:only-of-type {\n",
       "        vertical-align: middle;\n",
       "    }\n",
       "\n",
       "    .dataframe tbody tr th {\n",
       "        vertical-align: top;\n",
       "    }\n",
       "\n",
       "    .dataframe thead th {\n",
       "        text-align: right;\n",
       "    }\n",
       "</style>\n",
       "<table border=\"1\" class=\"dataframe\">\n",
       "  <thead>\n",
       "    <tr style=\"text-align: right;\">\n",
       "      <th></th>\n",
       "      <th>PassengerId</th>\n",
       "      <th>Survived</th>\n",
       "      <th>Pclass</th>\n",
       "      <th>Name</th>\n",
       "      <th>Sex</th>\n",
       "      <th>Age</th>\n",
       "      <th>SibSp</th>\n",
       "      <th>Parch</th>\n",
       "      <th>Ticket</th>\n",
       "      <th>Fare</th>\n",
       "      <th>Cabin</th>\n",
       "      <th>Embarked</th>\n",
       "    </tr>\n",
       "  </thead>\n",
       "  <tbody>\n",
       "    <tr>\n",
       "      <th>0</th>\n",
       "      <td>1</td>\n",
       "      <td>0</td>\n",
       "      <td>3</td>\n",
       "      <td>Braund, Mr. Owen Harris</td>\n",
       "      <td>male</td>\n",
       "      <td>22.0</td>\n",
       "      <td>1</td>\n",
       "      <td>0</td>\n",
       "      <td>A/5 21171</td>\n",
       "      <td>7.2500</td>\n",
       "      <td>NaN</td>\n",
       "      <td>S</td>\n",
       "    </tr>\n",
       "    <tr>\n",
       "      <th>1</th>\n",
       "      <td>2</td>\n",
       "      <td>1</td>\n",
       "      <td>1</td>\n",
       "      <td>Cumings, Mrs. John Bradley (Florence Briggs Th...</td>\n",
       "      <td>female</td>\n",
       "      <td>38.0</td>\n",
       "      <td>1</td>\n",
       "      <td>0</td>\n",
       "      <td>PC 17599</td>\n",
       "      <td>71.2833</td>\n",
       "      <td>C85</td>\n",
       "      <td>C</td>\n",
       "    </tr>\n",
       "    <tr>\n",
       "      <th>2</th>\n",
       "      <td>3</td>\n",
       "      <td>1</td>\n",
       "      <td>3</td>\n",
       "      <td>Heikkinen, Miss. Laina</td>\n",
       "      <td>female</td>\n",
       "      <td>26.0</td>\n",
       "      <td>0</td>\n",
       "      <td>0</td>\n",
       "      <td>STON/O2. 3101282</td>\n",
       "      <td>7.9250</td>\n",
       "      <td>NaN</td>\n",
       "      <td>S</td>\n",
       "    </tr>\n",
       "    <tr>\n",
       "      <th>3</th>\n",
       "      <td>4</td>\n",
       "      <td>1</td>\n",
       "      <td>1</td>\n",
       "      <td>Futrelle, Mrs. Jacques Heath (Lily May Peel)</td>\n",
       "      <td>female</td>\n",
       "      <td>35.0</td>\n",
       "      <td>1</td>\n",
       "      <td>0</td>\n",
       "      <td>113803</td>\n",
       "      <td>53.1000</td>\n",
       "      <td>C123</td>\n",
       "      <td>S</td>\n",
       "    </tr>\n",
       "    <tr>\n",
       "      <th>4</th>\n",
       "      <td>5</td>\n",
       "      <td>0</td>\n",
       "      <td>3</td>\n",
       "      <td>Allen, Mr. William Henry</td>\n",
       "      <td>male</td>\n",
       "      <td>35.0</td>\n",
       "      <td>0</td>\n",
       "      <td>0</td>\n",
       "      <td>373450</td>\n",
       "      <td>8.0500</td>\n",
       "      <td>NaN</td>\n",
       "      <td>S</td>\n",
       "    </tr>\n",
       "  </tbody>\n",
       "</table>\n",
       "</div>"
      ],
      "text/plain": [
       "   PassengerId  Survived  Pclass  \\\n",
       "0            1         0       3   \n",
       "1            2         1       1   \n",
       "2            3         1       3   \n",
       "3            4         1       1   \n",
       "4            5         0       3   \n",
       "\n",
       "                                                Name     Sex   Age  SibSp  \\\n",
       "0                            Braund, Mr. Owen Harris    male  22.0      1   \n",
       "1  Cumings, Mrs. John Bradley (Florence Briggs Th...  female  38.0      1   \n",
       "2                             Heikkinen, Miss. Laina  female  26.0      0   \n",
       "3       Futrelle, Mrs. Jacques Heath (Lily May Peel)  female  35.0      1   \n",
       "4                           Allen, Mr. William Henry    male  35.0      0   \n",
       "\n",
       "   Parch            Ticket     Fare Cabin Embarked  \n",
       "0      0         A/5 21171   7.2500   NaN        S  \n",
       "1      0          PC 17599  71.2833   C85        C  \n",
       "2      0  STON/O2. 3101282   7.9250   NaN        S  \n",
       "3      0            113803  53.1000  C123        S  \n",
       "4      0            373450   8.0500   NaN        S  "
      ]
     },
     "execution_count": 2,
     "metadata": {},
     "output_type": "execute_result"
    }
   ],
   "source": [
    "# Read in data\n",
    "train_data_path = \"/kaggle/input/titanic/train.csv\"\n",
    "test_data_path = \"/kaggle/input/titanic/test.csv\"\n",
    "train_data = pd.read_csv(train_data_path)\n",
    "test_data = pd.read_csv(test_data_path)\n",
    "\n",
    "train_data.head()"
   ]
  },
  {
   "cell_type": "code",
   "execution_count": 3,
   "id": "74e4eba1",
   "metadata": {
    "execution": {
     "iopub.execute_input": "2021-12-31T05:39:23.968472Z",
     "iopub.status.busy": "2021-12-31T05:39:23.967473Z",
     "iopub.status.idle": "2021-12-31T05:39:23.977162Z",
     "shell.execute_reply": "2021-12-31T05:39:23.977625Z",
     "shell.execute_reply.started": "2021-12-31T05:29:10.995629Z"
    },
    "papermill": {
     "duration": 0.02125,
     "end_time": "2021-12-31T05:39:23.977813",
     "exception": false,
     "start_time": "2021-12-31T05:39:23.956563",
     "status": "completed"
    },
    "tags": []
   },
   "outputs": [
    {
     "name": "stdout",
     "output_type": "stream",
     "text": [
      "PassengerId      0\n",
      "Survived         0\n",
      "Pclass           0\n",
      "Name             0\n",
      "Sex              0\n",
      "Age            177\n",
      "SibSp            0\n",
      "Parch            0\n",
      "Ticket           0\n",
      "Fare             0\n",
      "Cabin          687\n",
      "Embarked         2\n",
      "dtype: int64\n",
      "PassengerId      0\n",
      "Pclass           0\n",
      "Name             0\n",
      "Sex              0\n",
      "Age             86\n",
      "SibSp            0\n",
      "Parch            0\n",
      "Ticket           0\n",
      "Fare             1\n",
      "Cabin          327\n",
      "Embarked         0\n",
      "dtype: int64\n"
     ]
    }
   ],
   "source": [
    "# Find the missing data and process them\n",
    "# mvc stands for missing value count\n",
    "mvc_train = train_data.isnull().sum()\n",
    "print(mvc_train)\n",
    "mvc_test = test_data.isnull().sum()\n",
    "print(mvc_test)"
   ]
  },
  {
   "cell_type": "markdown",
   "id": "21e3d0c0",
   "metadata": {
    "papermill": {
     "duration": 0.006571,
     "end_time": "2021-12-31T05:39:23.991275",
     "exception": false,
     "start_time": "2021-12-31T05:39:23.984704",
     "status": "completed"
    },
    "tags": []
   },
   "source": [
    "From the code above we know that the Age columns in both data frames are missing a lot of information. Instead of dropping them, we can fill them with the average age. We do the same for other columns with missing information."
   ]
  },
  {
   "cell_type": "code",
   "execution_count": 4,
   "id": "f4071411",
   "metadata": {
    "execution": {
     "iopub.execute_input": "2021-12-31T05:39:24.008187Z",
     "iopub.status.busy": "2021-12-31T05:39:24.007530Z",
     "iopub.status.idle": "2021-12-31T05:39:24.045489Z",
     "shell.execute_reply": "2021-12-31T05:39:24.044946Z",
     "shell.execute_reply.started": "2021-12-31T05:29:11.008614Z"
    },
    "papermill": {
     "duration": 0.047793,
     "end_time": "2021-12-31T05:39:24.045649",
     "exception": false,
     "start_time": "2021-12-31T05:39:23.997856",
     "status": "completed"
    },
    "tags": []
   },
   "outputs": [],
   "source": [
    "# Data cleaninig\n",
    "# Fill the missing Age with the average Age in train_data\n",
    "train_age_mean = train_data.dropna(axis=0).Age.mean()\n",
    "train_data.Age = train_data.Age.fillna(value = train_age_mean)\n",
    "# Turn Sex into binary variate\n",
    "gender = pd.get_dummies(train_data[\"Sex\"])\n",
    "train_data = pd.concat((train_data, gender), axis=1)\n",
    "train_data = train_data.drop([\"Sex\", \"female\"], axis=1)\n",
    "train_data = train_data.rename(columns={\"male\":\"Sex\"})\n",
    "\n",
    "# Do the same for test_data\n",
    "test_age_mean = test_data.dropna(axis=0).Age.mean()\n",
    "test_data.Age = test_data.Age.fillna(value = test_age_mean)\n",
    "test_gender = pd.get_dummies(test_data[\"Sex\"])\n",
    "test_data = pd.concat((test_data, test_gender), axis=1)\n",
    "test_data = test_data.drop([\"Sex\", \"female\"], axis=1)\n",
    "test_data = test_data.rename(columns={\"male\":\"Sex\"})\n",
    "\n",
    "fare_mean = test_data.dropna(axis=0).Fare.mean()\n",
    "test_data.Fare = test_data.Fare.fillna(value = fare_mean)"
   ]
  },
  {
   "cell_type": "code",
   "execution_count": 5,
   "id": "1d625ee9",
   "metadata": {
    "execution": {
     "iopub.execute_input": "2021-12-31T05:39:24.076264Z",
     "iopub.status.busy": "2021-12-31T05:39:24.075319Z",
     "iopub.status.idle": "2021-12-31T05:39:24.166358Z",
     "shell.execute_reply": "2021-12-31T05:39:24.165816Z",
     "shell.execute_reply.started": "2021-12-31T05:29:11.038407Z"
    },
    "papermill": {
     "duration": 0.114044,
     "end_time": "2021-12-31T05:39:24.166502",
     "exception": false,
     "start_time": "2021-12-31T05:39:24.052458",
     "status": "completed"
    },
    "tags": []
   },
   "outputs": [],
   "source": [
    "#Choose target and features\n",
    "y = train_data.Survived\n",
    "features = ['Age', 'Pclass', 'Sex', 'Fare', 'SibSp', 'Parch']\n",
    "X = train_data[features]\n",
    "\n",
    "# Train the model\n",
    "train_X, val_X, train_y, val_y = train_test_split(X,y,random_state=0)\n",
    "\n",
    "def get_mae(max_leaf_nodes, train_X, val_X, train_y, val_y):\n",
    "    model = DecisionTreeRegressor(max_leaf_nodes = max_leaf_nodes, random_state= 0)\n",
    "    model.fit(train_X, train_y)\n",
    "    preds_val = model.predict(val_X)\n",
    "    mae = mean_absolute_error(val_y, preds_val)\n",
    "    return(mae)\n",
    "\n",
    "best_tree_size = 10\n",
    "min_mae = get_mae(10, train_X, val_X, train_y, val_y)\n",
    "for node_number in range(10, 200, 10):\n",
    "    cur_mae = get_mae(node_number, train_X, val_X, train_y, val_y)\n",
    "    if (cur_mae < min_mae):\n",
    "        min_mae = cur_mae\n",
    "        best_tree_size = node_number\n",
    "    \n",
    "# Define & fit the model and make prediction\n",
    "final_model = DecisionTreeRegressor(max_leaf_nodes = best_tree_size, random_state=0)\n",
    "final_model.fit(X, y)\n",
    "test_X = test_data[features]\n",
    "predictions = final_model.predict(test_X)\n",
    "predictions = [round(num) for num in predictions]"
   ]
  },
  {
   "cell_type": "markdown",
   "id": "bdd11508",
   "metadata": {
    "papermill": {
     "duration": 0.006433,
     "end_time": "2021-12-31T05:39:24.179952",
     "exception": false,
     "start_time": "2021-12-31T05:39:24.173519",
     "status": "completed"
    },
    "tags": []
   },
   "source": [
    "Save output."
   ]
  },
  {
   "cell_type": "code",
   "execution_count": 6,
   "id": "96be385c",
   "metadata": {
    "execution": {
     "iopub.execute_input": "2021-12-31T05:39:24.199707Z",
     "iopub.status.busy": "2021-12-31T05:39:24.199111Z",
     "iopub.status.idle": "2021-12-31T05:39:24.209079Z",
     "shell.execute_reply": "2021-12-31T05:39:24.208080Z",
     "shell.execute_reply.started": "2021-12-31T05:29:11.150667Z"
    },
    "papermill": {
     "duration": 0.022662,
     "end_time": "2021-12-31T05:39:24.209345",
     "exception": false,
     "start_time": "2021-12-31T05:39:24.186683",
     "status": "completed"
    },
    "tags": []
   },
   "outputs": [
    {
     "name": "stdout",
     "output_type": "stream",
     "text": [
      "Your submission was successfully saved!\n"
     ]
    }
   ],
   "source": [
    "output = pd.DataFrame({'PassengerId': test_data.PassengerId, 'Survived': predictions})\n",
    "output.to_csv('submission.csv', index=False)\n",
    "print(\"Your submission was successfully saved!\")"
   ]
  }
 ],
 "metadata": {
  "kernelspec": {
   "display_name": "Python 3",
   "language": "python",
   "name": "python3"
  },
  "language_info": {
   "codemirror_mode": {
    "name": "ipython",
    "version": 3
   },
   "file_extension": ".py",
   "mimetype": "text/x-python",
   "name": "python",
   "nbconvert_exporter": "python",
   "pygments_lexer": "ipython3",
   "version": "3.7.12"
  },
  "papermill": {
   "default_parameters": {},
   "duration": 11.608659,
   "end_time": "2021-12-31T05:39:25.027860",
   "environment_variables": {},
   "exception": null,
   "input_path": "__notebook__.ipynb",
   "output_path": "__notebook__.ipynb",
   "parameters": {},
   "start_time": "2021-12-31T05:39:13.419201",
   "version": "2.3.3"
  }
 },
 "nbformat": 4,
 "nbformat_minor": 5
}
